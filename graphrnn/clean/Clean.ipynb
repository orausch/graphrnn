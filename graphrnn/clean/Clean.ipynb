{
 "cells": [
  {
   "cell_type": "code",
   "execution_count": 8,
   "metadata": {},
   "outputs": [],
   "source": [
    "import torch\n",
    "import torch_geometric\n",
    "from torch_geometric.data import Data\n",
    "import networkx as nx"
   ]
  },
  {
   "cell_type": "code",
   "execution_count": 83,
   "metadata": {},
   "outputs": [
    {
     "data": {
      "text/plain": [
       "[<networkx.classes.graph.Graph at 0x7f6f79689fa0>,\n",
       " <networkx.classes.graph.Graph at 0x7f6f79689fd0>,\n",
       " <networkx.classes.graph.Graph at 0x7f6f79689e50>,\n",
       " <networkx.classes.graph.Graph at 0x7f6f79689e20>]"
      ]
     },
     "execution_count": 83,
     "metadata": {},
     "output_type": "execute_result"
    }
   ],
   "source": [
    "def create_graphs():\n",
    "    nx_graphs = [\n",
    "        nx.grid_2d_graph(i, j)\n",
    "        for i in range(2, 4)\n",
    "        for j in range(2, 4)\n",
    "    ]\n",
    "    # convert to torch_geometric format\n",
    "    return nx_graphs\n",
    "    #return list(map(torch_geometric.utils.from_networkx, nx_graphs))\n",
    "graphs = create_graphs()\n",
    "graphs\n",
    "    "
   ]
  },
  {
   "cell_type": "code",
   "execution_count": 89,
   "metadata": {},
   "outputs": [
    {
     "data": {
      "image/png": "[encoded data removed]",
      "text/plain": [
       "<Figure size 432x288 with 1 Axes>"
      ]
     },
     "metadata": {},
     "output_type": "display_data"
    }
   ],
   "source": [
    "#draw the graph\n",
    "nx.draw_spectral(graphs[1])"
   ]
  },
  {
   "cell_type": "code",
   "execution_count": 66,
   "metadata": {},
   "outputs": [],
   "source": [
    "from graphrnn import data"
   ]
  },
  {
   "cell_type": "code",
   "execution_count": 64,
   "metadata": {},
   "outputs": [
    {
     "name": "stdout",
     "output_type": "stream",
     "text": [
      "/home/orausch/sources/graphrnn\n"
     ]
    }
   ],
   "source": [
    "%cd ../../"
   ]
  },
  {
   "cell_type": "code",
   "execution_count": 86,
   "metadata": {},
   "outputs": [],
   "source": [
    "c"
   ]
  },
  {
   "cell_type": "code",
   "execution_count": 87,
   "metadata": {},
   "outputs": [
    {
     "data": {
      "text/plain": [
       "{'x': array([[1., 1., 1., 1., 1., 1.],\n",
       "        [1., 0., 0., 0., 0., 0.],\n",
       "        [0., 1., 0., 0., 0., 0.],\n",
       "        [1., 1., 0., 0., 0., 0.],\n",
       "        [0., 0., 0., 0., 0., 0.],\n",
       "        [0., 0., 0., 0., 0., 0.],\n",
       "        [0., 0., 0., 0., 0., 0.],\n",
       "        [0., 0., 0., 0., 0., 0.],\n",
       "        [0., 0., 0., 0., 0., 0.]]),\n",
       " 'y': array([[1., 0., 0., 0., 0., 0.],\n",
       "        [0., 1., 0., 0., 0., 0.],\n",
       "        [1., 1., 0., 0., 0., 0.],\n",
       "        [0., 0., 0., 0., 0., 0.],\n",
       "        [0., 0., 0., 0., 0., 0.],\n",
       "        [0., 0., 0., 0., 0., 0.],\n",
       "        [0., 0., 0., 0., 0., 0.],\n",
       "        [0., 0., 0., 0., 0., 0.],\n",
       "        [0., 0., 0., 0., 0., 0.]]),\n",
       " 'len': 4}"
      ]
     },
     "execution_count": 87,
     "metadata": {},
     "output_type": "execute_result"
    }
   ],
   "source": [
    "sampler[0]"
   ]
  },
  {
   "cell_type": "code",
   "execution_count": 136,
   "metadata": {},
   "outputs": [
    {
     "data": {
      "text/plain": [
       "<networkx.classes.graph.Graph at 0x7f6f7952a400>"
      ]
     },
     "execution_count": 136,
     "metadata": {},
     "output_type": "execute_result"
    }
   ],
   "source": [
    "G = nx.Graph()\n",
    "G"
   ]
  },
  {
   "cell_type": "code",
   "execution_count": 137,
   "metadata": {},
   "outputs": [],
   "source": [
    "G.add_nodes_from([1, 2, 3, 4, 5])"
   ]
  },
  {
   "cell_type": "code",
   "execution_count": 140,
   "metadata": {},
   "outputs": [
    {
     "data": {
      "image/png": "[encoded data removed]",
      "text/plain": [
       "<Figure size 432x288 with 1 Axes>"
      ]
     },
     "metadata": {},
     "output_type": "display_data"
    }
   ],
   "source": [
    "G.add_edges_from([(1, 3), (1, 2), (2, 4), (4, 5), (2, 5), (3, 4)])\n",
    "nx.draw(G, with_labels=True)"
   ]
  },
  {
   "cell_type": "code",
   "execution_count": 139,
   "metadata": {},
   "outputs": [
    {
     "data": {
      "text/plain": [
       "tensor([[0, 0, 1, 1, 1, 2, 2, 3, 3, 3, 4, 4],\n",
       "        [2, 1, 0, 3, 4, 0, 3, 1, 2, 4, 1, 3]])"
      ]
     },
     "execution_count": 139,
     "metadata": {},
     "output_type": "execute_result"
    }
   ],
   "source": [
    "sampler = data.GraphSequenceSampler([G], max_prev_node=2)\n",
    "adj = nx.to_numpy_array(G)\n",
    "torch_geometric.utils.from_networkx(G).edge_index"
   ]
  },
  {
   "cell_type": "code",
   "execution_count": 114,
   "metadata": {},
   "outputs": [
    {
     "data": {
      "text/plain": [
       "array([[1., 0.],\n",
       "       [0., 1.],\n",
       "       [1., 1.],\n",
       "       [1., 1.]])"
      ]
     },
     "execution_count": 114,
     "metadata": {},
     "output_type": "execute_result"
    }
   ],
   "source": [
    "data.encode_adj(adj, max_prev_node=2)"
   ]
  },
  {
   "cell_type": "code",
   "execution_count": 224,
   "metadata": {},
   "outputs": [],
   "source": [
    "class BFS(T.BaseTransform):\n",
    "    \"\"\"\n",
    "    Start a breath first search from a random node and reorder the edge list so\n",
    "    that the node indices correspond to the breadth-first search order.\n",
    "    \"\"\"\n",
    "\n",
    "    def __call__(self, data):\n",
    "        x = data.x\n",
    "        edge_index = data.edge_index\n",
    "        assert data.is_undirected(), 'Transform only works for undirected graphs.'\n",
    "        G = torch_geometric.utils.to_networkx(data, to_undirected=data.is_undirected())\n",
    "\n",
    "        start_node = torch.randint(0, data.num_nodes, (1,)).item()\n",
    "\n",
    "        # get the breadth-first search order\n",
    "        bfs_order = [n for n, _ in nx.bfs_edges(G, start_node)]\n",
    "        perm = torch.tensor(bfs_order).argsort()\n",
    "\n",
    "        return torch_geometric.data.Data(x=x, edge_index=perm[edge_index], num_nodes=data.num_nodes)\n",
    "\n",
    "    def __repr__(self):\n",
    "        return '{}'.format(self.__class__.__name__)\n",
    "\n",
    "def encode_bfs_adjacency(data, M):\n",
    "    \"\"\"\n",
    "    Given a pytorch geometric graph `data`, order the nodes according to a BFS started at a random node.\n",
    "\n",
    "    Then, for each node n compute a new feature x:\n",
    "    This is a fixed M-dimensional vector, representing the connectivity between\n",
    "    node n and nodes in the current BFS queue.\n",
    "    M is a given (possibly emperical) bound on the maximum size of the queue of this BFS. \n",
    "    \"\"\"\n",
    "    #G = torch_geometric.utils.to_networkx(data)\n",
    "    G = data\n",
    "    # get a random start node\n",
    "    # start_node = torch.randint(0, data.num_nodes, (1,)).item()\n",
    "    start_node = 1\n",
    "\n",
    "    num_nodes = G.number_of_nodes() + 1\n",
    "    x = torch.zeros((num_nodes, M))\n",
    "    for source, dest in nx.bfs_edges(G, start_node):\n",
    "        if source - M >= 0:\n",
    "            x[source, dest] = 1\n",
    "    return x\n",
    "\n",
    "\n"
   ]
  },
  {
   "cell_type": "code",
   "execution_count": 225,
   "metadata": {},
   "outputs": [],
   "source": [
    "data = torch_geometric.utils.from_networkx(G)\n",
    "data.is_undirected()\n",
    "draw_data = lambda data: nx.draw_spectral(torch_geometric.utils.to_networkx(data), with_labels=True)"
   ]
  },
  {
   "cell_type": "code",
   "execution_count": 226,
   "metadata": {},
   "outputs": [
    {
     "name": "stdout",
     "output_type": "stream",
     "text": [
      "tensor([[0, 0, 1, 1, 1, 2, 2, 3, 3, 3, 4, 4],\n",
      "        [2, 1, 0, 3, 4, 0, 3, 1, 2, 4, 1, 3]])\n"
     ]
    },
    {
     "data": {
      "image/png": "[encoded data removed]",
      "text/plain": [
       "<Figure size 432x288 with 1 Axes>"
      ]
     },
     "metadata": {},
     "output_type": "display_data"
    }
   ],
   "source": [
    "\n",
    "draw_data(data)\n",
    "print(data.edge_index)"
   ]
  },
  {
   "cell_type": "code",
   "execution_count": 228,
   "metadata": {},
   "outputs": [
    {
     "name": "stdout",
     "output_type": "stream",
     "text": [
      "tensor([[3, 3, 1, 1, 1, 4, 4, 2, 2, 2, 0, 0],\n",
      "        [4, 1, 3, 2, 0, 3, 2, 1, 4, 0, 1, 2]])\n"
     ]
    },
    {
     "data": {
      "image/png": "[encoded data removed]",
      "text/plain": [
       "<Figure size 432x288 with 1 Axes>"
      ]
     },
     "metadata": {},
     "output_type": "display_data"
    }
   ],
   "source": [
    "out_data = BFS()(data)\n",
    "print(out_data.edge_index)\n",
    "draw_data(out_data)"
   ]
  },
  {
   "cell_type": "code",
   "execution_count": 214,
   "metadata": {},
   "outputs": [
    {
     "ename": "IndexError",
     "evalue": "index 3 is out of bounds for dimension 0 with size 2",
     "output_type": "error",
     "traceback": [
      "\u001b[0;31m---------------------------------------------------------------------------\u001b[0m",
      "\u001b[0;31mIndexError\u001b[0m                                Traceback (most recent call last)",
      "\u001b[1;32m/home/orausch/sources/graphrnn/graphrnn/clean/Clean.ipynb Cell 17'\u001b[0m in \u001b[0;36m<cell line: 9>\u001b[0;34m()\u001b[0m\n\u001b[1;32m      <a href='vscode-notebook-cell:/home/orausch/sources/graphrnn/graphrnn/clean/Clean.ipynb#ch0000020?line=0'>1</a>\u001b[0m perm \u001b[39m=\u001b[39m torch\u001b[39m.\u001b[39mtensor([\u001b[39m1\u001b[39m, \u001b[39m0\u001b[39m, \u001b[39m3\u001b[39m, \u001b[39m4\u001b[39m, \u001b[39m2\u001b[39m])\n\u001b[1;32m      <a href='vscode-notebook-cell:/home/orausch/sources/graphrnn/graphrnn/clean/Clean.ipynb#ch0000020?line=2'>3</a>\u001b[0m \u001b[39m# 1 -> 0\u001b[39;00m\n\u001b[1;32m      <a href='vscode-notebook-cell:/home/orausch/sources/graphrnn/graphrnn/clean/Clean.ipynb#ch0000020?line=3'>4</a>\u001b[0m \u001b[39m# 0 -> 1\u001b[39;00m\n\u001b[1;32m      <a href='vscode-notebook-cell:/home/orausch/sources/graphrnn/graphrnn/clean/Clean.ipynb#ch0000020?line=4'>5</a>\u001b[0m \u001b[39m# 3 -> 2\u001b[39;00m\n\u001b[1;32m      <a href='vscode-notebook-cell:/home/orausch/sources/graphrnn/graphrnn/clean/Clean.ipynb#ch0000020?line=5'>6</a>\u001b[0m \u001b[39m# 4 -> 3\u001b[39;00m\n\u001b[1;32m      <a href='vscode-notebook-cell:/home/orausch/sources/graphrnn/graphrnn/clean/Clean.ipynb#ch0000020?line=6'>7</a>\u001b[0m \u001b[39m# 2 -> 4\u001b[39;00m\n\u001b[0;32m----> <a href='vscode-notebook-cell:/home/orausch/sources/graphrnn/graphrnn/clean/Clean.ipynb#ch0000020?line=8'>9</a>\u001b[0m torch\u001b[39m.\u001b[39;49mtensor([[\u001b[39m0\u001b[39;49m, \u001b[39m3\u001b[39;49m], [\u001b[39m1\u001b[39;49m, \u001b[39m2\u001b[39;49m]])[perm]\n",
      "\u001b[0;31mIndexError\u001b[0m: index 3 is out of bounds for dimension 0 with size 2"
     ]
    }
   ],
   "source": [
    "class AddGraphRNNFeature(T.BaseTransform):\n",
    "\n",
    "    def __init__(self, M):\n",
    "        self.M = M\n",
    "\n",
    "    def __call__(self, data):\n",
    "        x = data.x\n",
    "        edge_index = data.edge_index\n",
    "        num_nodes = data.num_nodes\n",
    "        # add the graph rnn feature\n",
    "        x = torch.cat([x, encode_bfs_adjacency(data, self.M)], dim=1)\n",
    "        return torch_geometric.data.Data(x=x, edge_index=edge_index, num_nodes=num_nodes)"
   ]
  },
  {
   "cell_type": "code",
   "execution_count": 241,
   "metadata": {},
   "outputs": [],
   "source": [
    "_, indices = torch.sort(out_data.edge_index[0])\n",
    "edge_index_sorted = out_data.edge_index[:, indices]"
   ]
  },
  {
   "cell_type": "code",
   "execution_count": 242,
   "metadata": {},
   "outputs": [
    {
     "data": {
      "text/plain": [
       "tensor([[0, 0, 1, 1, 1, 2, 2, 2, 3, 3, 4, 4],\n",
       "        [1, 2, 3, 2, 0, 1, 4, 0, 4, 1, 3, 2]])"
      ]
     },
     "execution_count": 242,
     "metadata": {},
     "output_type": "execute_result"
    }
   ],
   "source": [
    "edge_index_sorted"
   ]
  },
  {
   "cell_type": "code",
   "execution_count": 243,
   "metadata": {},
   "outputs": [
    {
     "data": {
      "text/plain": [
       "tensor([[3, 3, 1, 1, 1, 4, 4, 2, 2, 2, 0, 0],\n",
       "        [4, 1, 3, 2, 0, 3, 2, 1, 4, 0, 1, 2]])"
      ]
     },
     "execution_count": 243,
     "metadata": {},
     "output_type": "execute_result"
    }
   ],
   "source": [
    "out_data.edge_index"
   ]
  },
  {
   "cell_type": "code",
   "execution_count": null,
   "metadata": {},
   "outputs": [],
   "source": []
  }
 ],
 "metadata": {
  "interpreter": {
   "hash": "787765b6c01edc2d15c20baccb9f805e079ab61fdee7b3b8d67bfceaefd6f50c"
  },
  "kernelspec": {
   "display_name": "Python 3.9.7 ('graphrnn-clean')",
   "language": "python",
   "name": "python3"
  },
  "language_info": {
   "codemirror_mode": {
    "name": "ipython",
    "version": 3
   },
   "file_extension": ".py",
   "mimetype": "text/x-python",
   "name": "python",
   "nbconvert_exporter": "python",
   "pygments_lexer": "ipython3",
   "version": "3.9.7"
  },
  "orig_nbformat": 4
 },
 "nbformat": 4,
 "nbformat_minor": 2
}
