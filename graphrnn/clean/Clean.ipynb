{
 "cells": [
  {
   "cell_type": "code",
   "execution_count": 8,
   "metadata": {},
   "outputs": [],
   "source": [
    "import torch\n",
    "import torch_geometric\n",
    "from torch_geometric.data import Data\n",
    "import networkx as nx"
   ]
  },
  {
   "cell_type": "code",
   "execution_count": 83,
   "metadata": {},
   "outputs": [
    {
     "data": {
      "text/plain": [
       "[<networkx.classes.graph.Graph at 0x7f6f79689fa0>,\n",
       " <networkx.classes.graph.Graph at 0x7f6f79689fd0>,\n",
       " <networkx.classes.graph.Graph at 0x7f6f79689e50>,\n",
       " <networkx.classes.graph.Graph at 0x7f6f79689e20>]"
      ]
     },
     "execution_count": 83,
     "metadata": {},
     "output_type": "execute_result"
    }
   ],
   "source": [
    "def create_graphs():\n",
    "    nx_graphs = [\n",
    "        nx.grid_2d_graph(i, j)\n",
    "        for i in range(2, 4)\n",
    "        for j in range(2, 4)\n",
    "    ]\n",
    "    # convert to torch_geometric format\n",
    "    return nx_graphs\n",
    "    #return list(map(torch_geometric.utils.from_networkx, nx_graphs))\n",
    "graphs = create_graphs()\n",
    "graphs\n",
    "    "
   ]
  },
  {
   "cell_type": "code",
   "execution_count": 89,
   "metadata": {},
   "outputs": [
    {
     "data": {
      "image/png": "[encoded data removed]",
      "text/plain": [
       "<Figure size 432x288 with 1 Axes>"
      ]
     },
     "metadata": {},
     "output_type": "display_data"
    }
   ],
   "source": [
    "#draw the graph\n",
    "nx.draw_spectral(graphs[1])"
   ]
  },
  {
   "cell_type": "code",
   "execution_count": 66,
   "metadata": {},
   "outputs": [],
   "source": [
    "from graphrnn import data"
   ]
  },
  {
   "cell_type": "code",
   "execution_count": 64,
   "metadata": {},
   "outputs": [
    {
     "name": "stdout",
     "output_type": "stream",
     "text": [
      "/home/orausch/sources/graphrnn\n"
     ]
    }
   ],
   "source": [
    "%cd ../../"
   ]
  },
  {
   "cell_type": "code",
   "execution_count": 86,
   "metadata": {},
   "outputs": [],
   "source": [
    "c"
   ]
  },
  {
   "cell_type": "code",
   "execution_count": 87,
   "metadata": {},
   "outputs": [
    {
     "data": {
      "text/plain": [
       "{'x': array([[1., 1., 1., 1., 1., 1.],\n",
       "        [1., 0., 0., 0., 0., 0.],\n",
       "        [0., 1., 0., 0., 0., 0.],\n",
       "        [1., 1., 0., 0., 0., 0.],\n",
       "        [0., 0., 0., 0., 0., 0.],\n",
       "        [0., 0., 0., 0., 0., 0.],\n",
       "        [0., 0., 0., 0., 0., 0.],\n",
       "        [0., 0., 0., 0., 0., 0.],\n",
       "        [0., 0., 0., 0., 0., 0.]]),\n",
       " 'y': array([[1., 0., 0., 0., 0., 0.],\n",
       "        [0., 1., 0., 0., 0., 0.],\n",
       "        [1., 1., 0., 0., 0., 0.],\n",
       "        [0., 0., 0., 0., 0., 0.],\n",
       "        [0., 0., 0., 0., 0., 0.],\n",
       "        [0., 0., 0., 0., 0., 0.],\n",
       "        [0., 0., 0., 0., 0., 0.],\n",
       "        [0., 0., 0., 0., 0., 0.],\n",
       "        [0., 0., 0., 0., 0., 0.]]),\n",
       " 'len': 4}"
      ]
     },
     "execution_count": 87,
     "metadata": {},
     "output_type": "execute_result"
    }
   ],
   "source": [
    "sampler[0]"
   ]
  },
  {
   "cell_type": "code",
   "execution_count": 136,
   "metadata": {},
   "outputs": [
    {
     "data": {
      "text/plain": [
       "<networkx.classes.graph.Graph at 0x7f6f7952a400>"
      ]
     },
     "execution_count": 136,
     "metadata": {},
     "output_type": "execute_result"
    }
   ],
   "source": [
    "G = nx.Graph()\n",
    "G"
   ]
  },
  {
   "cell_type": "code",
   "execution_count": 137,
   "metadata": {},
   "outputs": [],
   "source": [
    "G.add_nodes_from([1, 2, 3, 4, 5])"
   ]
  },
  {
   "cell_type": "code",
   "execution_count": 140,
   "metadata": {},
   "outputs": [
    {
     "data": {
      "image/png": "[encoded data removed]",
      "text/plain": [
       "<Figure size 432x288 with 1 Axes>"
      ]
     },
     "metadata": {},
     "output_type": "display_data"
    }
   ],
   "source": [
    "G.add_edges_from([(1, 3), (1, 2), (2, 4), (4, 5), (2, 5), (3, 4)])\n",
    "nx.draw(G, with_labels=True)"
   ]
  },
  {
   "cell_type": "code",
   "execution_count": 139,
   "metadata": {},
   "outputs": [
    {
     "data": {
      "text/plain": [
       "tensor([[0, 0, 1, 1, 1, 2, 2, 3, 3, 3, 4, 4],\n",
       "        [2, 1, 0, 3, 4, 0, 3, 1, 2, 4, 1, 3]])"
      ]
     },
     "execution_count": 139,
     "metadata": {},
     "output_type": "execute_result"
    }
   ],
   "source": [
    "sampler = data.GraphSequenceSampler([G], max_prev_node=2)\n",
    "adj = nx.to_numpy_array(G)\n",
    "torch_geometric.utils.from_networkx(G).edge_index"
   ]
  },
  {
   "cell_type": "code",
   "execution_count": 114,
   "metadata": {},
   "outputs": [
    {
     "data": {
      "text/plain": [
       "array([[1., 0.],\n",
       "       [0., 1.],\n",
       "       [1., 1.],\n",
       "       [1., 1.]])"
      ]
     },
     "execution_count": 114,
     "metadata": {},
     "output_type": "execute_result"
    }
   ],
   "source": [
    "data.encode_adj(adj, max_prev_node=2)"
   ]
  },
  {
   "cell_type": "code",
   "execution_count": 248,
   "metadata": {},
   "outputs": [],
   "source": [
    "class BFS(T.BaseTransform):\n",
    "    \"\"\"\n",
    "    Start a breath first search from a random node and reorder the edge list so\n",
    "    that the node indices correspond to the breadth-first search order.\n",
    "    \"\"\"\n",
    "    def __call__(self, data):\n",
    "        x = data.x\n",
    "        edge_index = data.edge_index\n",
    "        assert data.is_undirected(), 'Transform only works for undirected graphs.'\n",
    "        G = torch_geometric.utils.to_networkx(data, to_undirected=data.is_undirected())\n",
    "\n",
    "        start_node = torch.randint(0, data.num_nodes, (1,)).item()\n",
    "\n",
    "        # get the breadth-first search order\n",
    "        bfs_order = [start_node] + [n for _, n in nx.bfs_edges(G, start_node)]\n",
    "        perm = torch.tensor(bfs_order).argsort()\n",
    "\n",
    "        return torch_geometric.data.Data(x=x, edge_index=perm[edge_index], num_nodes=data.num_nodes)\n",
    "\n",
    "    def __repr__(self):\n",
    "        return '{}'.format(self.__class__.__name__)\n",
    "\n",
    "def encode_bfs_adjacency(data, M):\n",
    "    \"\"\"\n",
    "    Given a pytorch geometric graph `data`, order the nodes according to a BFS started at a random node.\n",
    "\n",
    "    Then, for each node n compute a new feature x:\n",
    "    This is a fixed M-dimensional vector, representing the connectivity between\n",
    "    node n and nodes in the current BFS queue.\n",
    "    M is a given (possibly emperical) bound on the maximum size of the queue of this BFS. \n",
    "    \"\"\"\n",
    "    #G = torch_geometric.utils.to_networkx(data)\n",
    "    G = data\n",
    "    # get a random start node\n",
    "    # start_node = torch.randint(0, data.num_nodes, (1,)).item()\n",
    "    start_node = 1\n",
    "\n",
    "    num_nodes = G.number_of_nodes() + 1\n",
    "    x = torch.zeros((num_nodes, M))\n",
    "    for source, dest in nx.bfs_edges(G, start_node):\n",
    "        if source - M >= 0:\n",
    "            x[source, dest] = 1\n",
    "    return x\n",
    "\n",
    "\n"
   ]
  },
  {
   "cell_type": "code",
   "execution_count": 249,
   "metadata": {},
   "outputs": [],
   "source": [
    "data = torch_geometric.utils.from_networkx(G)\n",
    "data.is_undirected()\n",
    "draw_data = lambda data: nx.draw_spectral(torch_geometric.utils.to_networkx(data), with_labels=True)"
   ]
  },
  {
   "cell_type": "code",
   "execution_count": 250,
   "metadata": {},
   "outputs": [
    {
     "name": "stdout",
     "output_type": "stream",
     "text": [
      "tensor([[0, 0, 1, 1, 1, 2, 2, 3, 3, 3, 4, 4],\n",
      "        [2, 1, 0, 3, 4, 0, 3, 1, 2, 4, 1, 3]])\n"
     ]
    },
    {
     "data": {
      "image/png": "[encoded data removed]",
      "text/plain": [
       "<Figure size 432x288 with 1 Axes>"
      ]
     },
     "metadata": {},
     "output_type": "display_data"
    }
   ],
   "source": [
    "\n",
    "draw_data(data)\n",
    "print(data.edge_index)"
   ]
  },
  {
   "cell_type": "code",
   "execution_count": 251,
   "metadata": {},
   "outputs": [
    {
     "name": "stdout",
     "output_type": "stream",
     "text": [
      "tensor([[1, 1, 0, 0, 0, 4, 4, 2, 2, 2, 3, 3],\n",
      "        [4, 0, 1, 2, 3, 1, 2, 0, 4, 3, 0, 2]])\n"
     ]
    },
    {
     "data": {
      "image/png": "[encoded data removed]",
      "text/plain": [
       "<Figure size 432x288 with 1 Axes>"
      ]
     },
     "metadata": {},
     "output_type": "display_data"
    }
   ],
   "source": [
    "out_data = BFS()(data)\n",
    "print(out_data.edge_index)\n",
    "draw_data(out_data)"
   ]
  },
  {
   "cell_type": "code",
   "execution_count": 252,
   "metadata": {},
   "outputs": [],
   "source": [
    "class EncodeGraphRNNFeature(T.BaseTransform):\n",
    "    def __init__(self, M):\n",
    "        self.M = M\n",
    "\n",
    "    def __call__(self, data):\n",
    "        x = data.x\n",
    "        edge_index = data.edge_index\n",
    "        num_nodes = data.num_nodes\n",
    "        # add the graph rnn feature\n",
    "        x = torch.cat([x, encode_bfs_adjacency(data, self.M)], dim=1)\n",
    "        return torch_geometric.data.Data(x=x, edge_index=edge_index, num_nodes=num_nodes)\n",
    "\n",
    "def banded_view(adj, M):\n",
    "    \"\"\"\n",
    "    Uses stride tricks to return a view of adj containing the \n",
    "    :param adj: dimension N x N\n",
    "    :param M: number of bands above the diagonal to return\n",
    "    :result: dimension N x M; the M bands above the diagonal\n",
    "    \"\"\"\n",
    "    adj = adj.contiguous()\n",
    "    N = adj.shape[0]\n",
    "    return adj.as_strided(shape=(N, M), strides=(N, 1))\n",
    "\n",
    "\n",
    "def encode_adj(adj, max_prev_node=10, is_full = False):\n",
    "    '''\n",
    "\n",
    "    :param adj: n*n, rows means time step, while columns are input dimension\n",
    "    :param max_degree: we want to keep row number, but truncate column numbers\n",
    "    :return:\n",
    "    '''\n",
    "    if is_full:\n",
    "        max_prev_node = adj.shape[0]-1\n",
    "\n",
    "    # pick up lower tri\n",
    "    adj = np.tril(adj, k=-1)\n",
    "    n = adj.shape[0]\n",
    "    adj = adj[1:n, 0:n-1]\n",
    "\n",
    "    # use max_prev_node to truncate\n",
    "    # note: now adj is a (n-1)*(n-1) matrix\n",
    "    adj_output = np.zeros((adj.shape[0], max_prev_node))\n",
    "    for i in range(adj.shape[0]):\n",
    "        input_start = max(0, i - max_prev_node + 1)\n",
    "        input_end = i + 1\n",
    "        output_start = max_prev_node + input_start - input_end\n",
    "        output_end = max_prev_node\n",
    "        adj_output[i, output_start:output_end] = adj[i, input_start:input_end]\n",
    "        adj_output[i,:] = adj_output[i,:][::-1] # reverse order\n",
    "\n",
    "    return adj_output\n",
    "\n",
    "def decode_adj(adj_output):\n",
    "    '''\n",
    "        recover to adj from adj_output\n",
    "        note: here adj_output have shape (n-1)*m\n",
    "    '''\n",
    "    max_prev_node = adj_output.shape[1]\n",
    "    adj = np.zeros((adj_output.shape[0], adj_output.shape[0]))\n",
    "    for i in range(adj_output.shape[0]):\n",
    "        input_start = max(0, i - max_prev_node + 1)\n",
    "        input_end = i + 1\n",
    "        output_start = max_prev_node + max(0, i - max_prev_node + 1) - (i + 1)\n",
    "        output_end = max_prev_node\n",
    "        adj[i, input_start:input_end] = adj_output[i,::-1][output_start:output_end] # reverse order\n",
    "    adj_full = np.zeros((adj_output.shape[0]+1, adj_output.shape[0]+1))\n",
    "    n = adj_full.shape[0]\n",
    "    adj_full[1:n, 0:n-1] = np.tril(adj, 0)\n",
    "    adj_full = adj_full + adj_full.T\n",
    "\n",
    "    return adj_full"
   ]
  },
  {
   "cell_type": "code",
   "execution_count": 241,
   "metadata": {},
   "outputs": [],
   "source": [
    "_, indices = torch.sort(out_data.edge_index[0])\n",
    "edge_index_sorted = out_data.edge_index[:, indices]"
   ]
  },
  {
   "cell_type": "code",
   "execution_count": 242,
   "metadata": {},
   "outputs": [
    {
     "data": {
      "text/plain": [
       "tensor([[0, 0, 1, 1, 1, 2, 2, 2, 3, 3, 4, 4],\n",
       "        [1, 2, 3, 2, 0, 1, 4, 0, 4, 1, 3, 2]])"
      ]
     },
     "execution_count": 242,
     "metadata": {},
     "output_type": "execute_result"
    }
   ],
   "source": [
    "edge_index_sorted"
   ]
  },
  {
   "cell_type": "code",
   "execution_count": 243,
   "metadata": {},
   "outputs": [
    {
     "data": {
      "text/plain": [
       "tensor([[3, 3, 1, 1, 1, 4, 4, 2, 2, 2, 0, 0],\n",
       "        [4, 1, 3, 2, 0, 3, 2, 1, 4, 0, 1, 2]])"
      ]
     },
     "execution_count": 243,
     "metadata": {},
     "output_type": "execute_result"
    }
   ],
   "source": [
    "out_data.edge_index"
   ]
  },
  {
   "cell_type": "code",
   "execution_count": 256,
   "metadata": {},
   "outputs": [
    {
     "data": {
      "text/plain": [
       "[(1, 3), (1, 2), (3, 4), (2, 5)]"
      ]
     },
     "execution_count": 256,
     "metadata": {},
     "output_type": "execute_result"
    }
   ],
   "source": [
    "list(nx.bfs_edges(G, 1))"
   ]
  },
  {
   "cell_type": "code",
   "execution_count": 259,
   "metadata": {},
   "outputs": [
    {
     "data": {
      "image/png": "[encoded data removed]",
      "text/plain": [
       "<Figure size 432x288 with 1 Axes>"
      ]
     },
     "metadata": {},
     "output_type": "display_data"
    }
   ],
   "source": [
    "nx.draw(G, with_labels=True)"
   ]
  },
  {
   "cell_type": "code",
   "execution_count": null,
   "metadata": {},
   "outputs": [],
   "source": []
  }
 ],
 "metadata": {
  "interpreter": {
   "hash": "787765b6c01edc2d15c20baccb9f805e079ab61fdee7b3b8d67bfceaefd6f50c"
  },
  "kernelspec": {
   "display_name": "Python 3.9.7 ('graphrnn-clean')",
   "language": "python",
   "name": "python3"
  },
  "language_info": {
   "codemirror_mode": {
    "name": "ipython",
    "version": 3
   },
   "file_extension": ".py",
   "mimetype": "text/x-python",
   "name": "python",
   "nbconvert_exporter": "python",
   "pygments_lexer": "ipython3",
   "version": "3.9.7"
  },
  "orig_nbformat": 4
 },
 "nbformat": 4,
 "nbformat_minor": 2
}
